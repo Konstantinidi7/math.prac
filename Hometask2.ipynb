{
  "cells": [
    {
      "cell_type": "markdown",
      "metadata": {
        "id": "walWU2VAx7wr"
      },
      "source": [
        "### Домашняя работа 2"
      ]
    },
    {
      "cell_type": "markdown",
      "metadata": {
        "id": "x8L3gumKx7ws"
      },
      "source": [
        "1. Создайте массив 10х10, заполненный в центре нулями, а по границе единицами."
      ]
    },
    {
      "cell_type": "code",
      "execution_count": 3,
      "metadata": {
        "id": "8_rt93Hax7ws",
        "colab": {
          "base_uri": "https://localhost:8080/"
        },
        "outputId": "dcf90908-1bfb-4ad8-e0a8-1733f8742588"
      },
      "outputs": [
        {
          "output_type": "stream",
          "name": "stdout",
          "text": [
            "[[1. 1. 1. 1. 1. 1. 1. 1. 1. 1.]\n",
            " [1. 0. 0. 0. 0. 0. 0. 0. 0. 1.]\n",
            " [1. 0. 0. 0. 0. 0. 0. 0. 0. 1.]\n",
            " [1. 0. 0. 0. 0. 0. 0. 0. 0. 1.]\n",
            " [1. 0. 0. 0. 0. 0. 0. 0. 0. 1.]\n",
            " [1. 0. 0. 0. 0. 0. 0. 0. 0. 1.]\n",
            " [1. 0. 0. 0. 0. 0. 0. 0. 0. 1.]\n",
            " [1. 0. 0. 0. 0. 0. 0. 0. 0. 1.]\n",
            " [1. 0. 0. 0. 0. 0. 0. 0. 0. 1.]\n",
            " [1. 1. 1. 1. 1. 1. 1. 1. 1. 1.]]\n"
          ]
        }
      ],
      "source": [
        "import numpy as np\n",
        "\n",
        "array = np.ones((10, 10))\n",
        "array[1:-1, 1:-1] = 0\n",
        "print(array)"
      ]
    },
    {
      "cell_type": "markdown",
      "metadata": {
        "id": "VpbWeNrnx7wt"
      },
      "source": [
        "2. Создайте массив 8х8, заполненный 0 и 1 в шахматном порядке."
      ]
    },
    {
      "cell_type": "code",
      "execution_count": 10,
      "metadata": {
        "id": "-Tk2mNtbx7wt",
        "colab": {
          "base_uri": "https://localhost:8080/"
        },
        "outputId": "d698033c-f580-4782-d9ee-4f29ef74b2a7"
      },
      "outputs": [
        {
          "output_type": "stream",
          "name": "stdout",
          "text": [
            "[[0 1 0 1 0 1 0 1]\n",
            " [1 0 1 0 1 0 1 0]\n",
            " [0 1 0 1 0 1 0 1]\n",
            " [1 0 1 0 1 0 1 0]\n",
            " [0 1 0 1 0 1 0 1]\n",
            " [1 0 1 0 1 0 1 0]\n",
            " [0 1 0 1 0 1 0 1]\n",
            " [1 0 1 0 1 0 1 0]]\n"
          ]
        }
      ],
      "source": [
        "array = np.indices((8, 8)).sum(axis=0) % 2\n",
        "print(array)"
      ]
    },
    {
      "cell_type": "markdown",
      "source": [
        "3. Создайте матрицу 5x5 со значениями 1,2,3,4 под главной диагональю. Остальные значения - нули"
      ],
      "metadata": {
        "id": "4Whlpc6BG9n0"
      }
    },
    {
      "cell_type": "code",
      "source": [
        "array = np.diag([1, 2, 3, 4], k=-1)\n",
        "print(array)"
      ],
      "metadata": {
        "id": "BCZL4GWWG-uJ",
        "colab": {
          "base_uri": "https://localhost:8080/"
        },
        "outputId": "06e72b02-ee79-404b-b13c-5a15817b6c38"
      },
      "execution_count": 12,
      "outputs": [
        {
          "output_type": "stream",
          "name": "stdout",
          "text": [
            "[[0 0 0 0 0]\n",
            " [1 0 0 0 0]\n",
            " [0 2 0 0 0]\n",
            " [0 0 3 0 0]\n",
            " [0 0 0 4 0]]\n"
          ]
        }
      ]
    },
    {
      "cell_type": "markdown",
      "source": [
        "4. Создайте случайный массив 5х5 и нормируйте его так, чтобы среднее по каждой строке было в точности ноль."
      ],
      "metadata": {
        "id": "i49wIYjqHinn"
      }
    },
    {
      "cell_type": "code",
      "source": [
        "array = np.random.random((5, 5))\n",
        "array_normalized = array - array.mean(axis=1, keepdims=True)\n",
        "print(array_normalized)"
      ],
      "metadata": {
        "id": "b8W58GAXHjAO",
        "colab": {
          "base_uri": "https://localhost:8080/"
        },
        "outputId": "e4626277-0efe-4bc6-d9b5-e27ece69b282"
      },
      "execution_count": 15,
      "outputs": [
        {
          "output_type": "stream",
          "name": "stdout",
          "text": [
            "[[-0.27383602 -0.14386372 -0.08992756 -0.08750114  0.59512843]\n",
            " [-0.0854248  -0.17147849  0.01131717 -0.00060054  0.24618666]\n",
            " [-0.15259033  0.39771962 -0.14482404 -0.18161608  0.08131082]\n",
            " [ 0.10501318  0.21042793  0.16526926 -0.07439312 -0.40631725]\n",
            " [ 0.30442976 -0.22276304 -0.39765592  0.0677928   0.24819641]]\n"
          ]
        }
      ]
    },
    {
      "cell_type": "markdown",
      "source": [
        "5. Создайте двумерный массив 10x3, заполненный случайными числами от 0 до 1. В каждой строке выберите значение, наиболее близкое к 0.5."
      ],
      "metadata": {
        "id": "EGXmriUXHGFv"
      }
    },
    {
      "cell_type": "code",
      "source": [
        "array = np.random.random((10, 3))\n",
        "print(array, '\\n')\n",
        "near = array[np.arange(10), np.abs(array - 0.5).argmin(axis=1)]\n",
        "\n",
        "print(near)\n"
      ],
      "metadata": {
        "id": "KAC1vOZkHZpW",
        "colab": {
          "base_uri": "https://localhost:8080/"
        },
        "outputId": "b15f9a2e-fd85-4315-e220-8ff5bc6ae64b"
      },
      "execution_count": 27,
      "outputs": [
        {
          "output_type": "stream",
          "name": "stdout",
          "text": [
            "[[0.6491519  0.84691566 0.59681313]\n",
            " [0.85104706 0.90826774 0.71019864]\n",
            " [0.88657802 0.17800638 0.17302763]\n",
            " [0.53228888 0.40595566 0.56440424]\n",
            " [0.60165218 0.41583513 0.09372356]\n",
            " [0.27551984 0.32503123 0.20055342]\n",
            " [0.60601458 0.98234665 0.69766022]\n",
            " [0.44096797 0.48336245 0.29427096]\n",
            " [0.66125874 0.25978617 0.73025455]\n",
            " [0.19495433 0.04219098 0.57726736]] \n",
            "\n",
            "[0.59681313 0.71019864 0.17800638 0.53228888 0.41583513 0.32503123\n",
            " 0.60601458 0.48336245 0.66125874 0.57726736]\n"
          ]
        }
      ]
    },
    {
      "cell_type": "markdown",
      "source": [
        "6. Создайте двумерный массив 6x6, заполненный случайными значениями. Сумму по каждой строке поделите на максимальный элемент из столбца с тем же индексом."
      ],
      "metadata": {
        "id": "K2PkcwI_HahE"
      }
    },
    {
      "cell_type": "code",
      "source": [
        "array = np.random.random((6, 6))\n",
        "print(array, '\\n')\n",
        "result = array.sum(axis=1) / array.max(axis=0)\n",
        "print(result)\n"
      ],
      "metadata": {
        "id": "17BPHjJSHcC-",
        "colab": {
          "base_uri": "https://localhost:8080/"
        },
        "outputId": "203d37a0-9221-4024-96e3-ac5829901752"
      },
      "execution_count": 30,
      "outputs": [
        {
          "output_type": "stream",
          "name": "stdout",
          "text": [
            "[[0.47492703 0.72718023 0.87997765 0.35829259 0.01189861 0.45724027]\n",
            " [0.78176514 0.82721303 0.52601793 0.78939439 0.25498624 0.33296821]\n",
            " [0.51137909 0.16982852 0.05268486 0.83027388 0.37008917 0.15798251]\n",
            " [0.35412962 0.59693333 0.34205437 0.19458885 0.82436816 0.38393094]\n",
            " [0.31107444 0.06535374 0.08123823 0.3490646  0.53325515 0.00833393]\n",
            " [0.44207766 0.42454763 0.21221784 0.6448144  0.127371   0.29366081]] \n",
            "\n",
            "[3.72172694 4.2459981  2.37760358 3.24712764 1.63558003 4.69050838]\n"
          ]
        }
      ]
    },
    {
      "cell_type": "markdown",
      "source": [
        "7. На примере массива x = np.array([6, 2, 0, 3, 0, 0, 5, 7, 0]) найдите максимальный элемент в массиве среди элементов, перед которыми стоит ноль."
      ],
      "metadata": {
        "id": "tdFASc6lHcQL"
      }
    },
    {
      "cell_type": "code",
      "source": [
        "x = np.array([6, 2, 0, 3, 0, 0, 5, 7, 0])\n",
        "max_element = np.max(x[np.where(x[:-1] == 0)[0] + 1])\n",
        "print(max_element)"
      ],
      "metadata": {
        "id": "_lemkW7JHdpo",
        "colab": {
          "base_uri": "https://localhost:8080/"
        },
        "outputId": "feda2a30-9813-4dd3-f046-8a152cc9b372"
      },
      "execution_count": 31,
      "outputs": [
        {
          "output_type": "stream",
          "name": "stdout",
          "text": [
            "5\n"
          ]
        }
      ]
    },
    {
      "cell_type": "markdown",
      "source": [
        "8. Пусть заданы два массива x = np.ones(10) и i = np.array([0, 1, 2, 3, 5, 5, 5, 8]). Прибавьте единицу к тем элементам массива x, индексы которых указаны в массиве i. В случае, если некоторый индекс встретился в массиве i несколько раз, прибавьте к соответствующему элементу массива x число вхождений данного индекса в массив i."
      ],
      "metadata": {
        "id": "sjXlY-CUHdze"
      }
    },
    {
      "cell_type": "code",
      "execution_count": 39,
      "metadata": {
        "id": "W0EbvCpQx7wv",
        "colab": {
          "base_uri": "https://localhost:8080/"
        },
        "outputId": "3a823b94-9526-40c0-d0e0-9f2f3716567c"
      },
      "outputs": [
        {
          "output_type": "stream",
          "name": "stdout",
          "text": [
            "[1. 1. 1. 1. 1. 1. 1. 1. 1. 1.] \n",
            "\n",
            "[2. 2. 2. 2. 1. 4. 1. 1. 2. 1.]\n"
          ]
        }
      ],
      "source": [
        "x = np.ones(10)\n",
        "print(x, '\\n')\n",
        "i = np.array([0, 1, 2, 3, 5, 5, 5, 8])\n",
        "x += np.bincount(i, minlength=len(x))\n",
        "print(x)"
      ]
    },
    {
      "cell_type": "markdown",
      "metadata": {
        "id": "6HsNtCu_x7ww"
      },
      "source": [
        "Задача со звездочкой.\n",
        "\n",
        "Создайте произвольный двумерный массив NxM, N, M > 1. На его основе создайте новый двумерный массив, значения в котором являются средним значением исходного во всевозможных окошках размера 2х2 со сдвигом 1 по вертикали и горизонтали.\n"
      ]
    },
    {
      "cell_type": "code",
      "source": [
        "from numpy.lib.stride_tricks import sliding_window_view\n",
        "\n",
        "N = np.random.randint(2, 11)\n",
        "M = np.random.randint(2, 11)\n",
        "array = np.random.random((N, M))\n",
        "window = sliding_window_view(array, (2, 2))\n",
        "result = window.mean(axis=(-1, -2))\n",
        "print(array, '\\n')\n",
        "print(result)\n"
      ],
      "metadata": {
        "colab": {
          "base_uri": "https://localhost:8080/"
        },
        "id": "zBNTjXBcoDgP",
        "outputId": "52185492-ae36-48d8-ef49-092efcd9bcaa"
      },
      "execution_count": 42,
      "outputs": [
        {
          "output_type": "stream",
          "name": "stdout",
          "text": [
            "[[0.65397874 0.15174328 0.12961333 0.03470847]\n",
            " [0.06878272 0.28528244 0.27676746 0.97674284]\n",
            " [0.23683565 0.46479802 0.06289146 0.16843575]\n",
            " [0.18315976 0.84155034 0.98805449 0.3363122 ]\n",
            " [0.6494436  0.06962948 0.11558346 0.53674193]] \n",
            "\n",
            "[[0.28994679 0.21085163 0.35445803]\n",
            " [0.26392471 0.27243484 0.37120938]\n",
            " [0.43158594 0.58932358 0.38892347]\n",
            " [0.4359458  0.50370445 0.49417302]]\n"
          ]
        }
      ]
    }
  ],
  "metadata": {
    "anaconda-cloud": {},
    "kernelspec": {
      "display_name": "Python 3",
      "language": "python",
      "name": "python3"
    },
    "language_info": {
      "codemirror_mode": {
        "name": "ipython",
        "version": 3
      },
      "file_extension": ".py",
      "mimetype": "text/x-python",
      "name": "python",
      "nbconvert_exporter": "python",
      "pygments_lexer": "ipython3",
      "version": "3.7.0"
    },
    "colab": {
      "provenance": []
    }
  },
  "nbformat": 4,
  "nbformat_minor": 0
}