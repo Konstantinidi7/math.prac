{
  "nbformat": 4,
  "nbformat_minor": 0,
  "metadata": {
    "colab": {
      "provenance": []
    },
    "kernelspec": {
      "name": "python3",
      "display_name": "Python 3"
    },
    "language_info": {
      "name": "python"
    }
  },
  "cells": [
    {
      "cell_type": "markdown",
      "source": [
        "Homework 1 Konstantinidi A"
      ],
      "metadata": {
        "id": "6kkC1UK8tZCn"
      }
    },
    {
      "cell_type": "code",
      "source": [
        "class Test:\n",
        "    @staticmethod\n",
        "    def assert_equals(a, b, *args, **kwargs):\n",
        "        assert a == b\n",
        "        print('Passed')"
      ],
      "metadata": {
        "id": "MdHrTuBWwZ0E"
      },
      "execution_count": null,
      "outputs": []
    },
    {
      "cell_type": "markdown",
      "source": [
        "Problem https://edabit.com/challenge/i7TaDyRQQZCY3g2JG (5 points)"
      ],
      "metadata": {
        "id": "PWfoH_v4trDc"
      }
    },
    {
      "cell_type": "code",
      "source": [
        "def nod(x, y):\n",
        "    if x == 0:\n",
        "        return y\n",
        "    return nod(y % x, x)\n",
        "\n",
        "def nok(x, y):\n",
        "    return x * y // nod(x, y)\n",
        "\n",
        "def lcm(numbers):\n",
        "    result = numbers[0]\n",
        "    for num in numbers:\n",
        "        result = nok(result, num)\n",
        "    return int(result)\n"
      ],
      "metadata": {
        "id": "c1gFqlQZt2gL"
      },
      "execution_count": null,
      "outputs": []
    },
    {
      "cell_type": "code",
      "source": [
        "Test.assert_equals(lcm([1]), 1)\n",
        "Test.assert_equals(lcm([5, 5, 5]), 5)\n",
        "Test.assert_equals(lcm([67, 34, 12, 3, 2]), 13668)\n",
        "Test.assert_equals(lcm([79, 18, 7, 3, 1]), 9954)\n",
        "Test.assert_equals(lcm([10, 20, 30, 40, 50]), 600)\n",
        "Test.assert_equals(lcm([2, 3, 5, 7, 11, 13, 17]), 510510)\n",
        "Test.assert_equals(lcm([91, 92, 93, 94, 95]), 3476431140)"
      ],
      "metadata": {
        "colab": {
          "base_uri": "https://localhost:8080/"
        },
        "id": "M7XoedKXuC-P",
        "outputId": "80ff8b55-36d9-41d3-b2e4-ea37ca53bf06"
      },
      "execution_count": null,
      "outputs": [
        {
          "output_type": "stream",
          "name": "stdout",
          "text": [
            "Passed\n",
            "Passed\n",
            "Passed\n",
            "Passed\n",
            "Passed\n",
            "Passed\n",
            "Passed\n"
          ]
        }
      ]
    },
    {
      "cell_type": "markdown",
      "source": [
        "Problem https://edabit.com/challenge/j9zed4GnykS48W6vh (5 points)"
      ],
      "metadata": {
        "id": "1UoxfspCxExJ"
      }
    },
    {
      "cell_type": "code",
      "source": [
        "def digits(num):\n",
        "    total = 0\n",
        "    s = 1\n",
        "    count = 9\n",
        "    limit = 10\n",
        "\n",
        "    while num >= limit:\n",
        "        total += s * count\n",
        "        s += 1\n",
        "        count *= 10\n",
        "        limit *= 10\n",
        "\n",
        "\n",
        "    return total + (num - limit // 10) * s\n"
      ],
      "metadata": {
        "id": "6aCUWPTo6MxH"
      },
      "execution_count": null,
      "outputs": []
    },
    {
      "cell_type": "code",
      "source": [
        "Test.assert_equals(digits(1), 0)\n",
        "Test.assert_equals(digits(10), 9)\n",
        "Test.assert_equals(digits(100), 189)\n",
        "Test.assert_equals(digits(2020), 6969)\n",
        "Test.assert_equals(digits(103496754), 820359675)\n",
        "Test.assert_equals(digits(3248979384), 31378682729)\n",
        "Test.assert_equals(digits(122398758003456), 1724870258940729)\n",
        "Test.assert_equals(digits(58473029386609125789), 1158349476621071404669)"
      ],
      "metadata": {
        "colab": {
          "base_uri": "https://localhost:8080/"
        },
        "id": "ZxikZsTd6U51",
        "outputId": "9f7e93d8-cca1-4592-a00d-1938518a0886"
      },
      "execution_count": null,
      "outputs": [
        {
          "output_type": "stream",
          "name": "stdout",
          "text": [
            "Passed\n",
            "Passed\n",
            "Passed\n",
            "Passed\n",
            "Passed\n",
            "Passed\n",
            "Passed\n",
            "Passed\n"
          ]
        }
      ]
    },
    {
      "cell_type": "markdown",
      "source": [
        "Problem https://edabit.com/challenge/HqpZQPZiHbPK4HgEB (5 points)"
      ],
      "metadata": {
        "id": "ZdfItylV6uit"
      }
    },
    {
      "cell_type": "code",
      "source": [
        "def maxmin(n):\n",
        "    swaps = [n]\n",
        "    str_n = str(n)\n",
        "\n",
        "    for i in range(len(str_n)):\n",
        "        for j in range(len(str_n)):\n",
        "            if i == j:\n",
        "                continue\n",
        "\n",
        "            swapped = list(str_n)\n",
        "            swapped[i], swapped[j] = swapped[j], swapped[i]\n",
        "\n",
        "            if swapped[0] != '0':\n",
        "                swaps.append(int(''.join(swapped)))\n",
        "\n",
        "    return max(swaps), min(swaps)\n"
      ],
      "metadata": {
        "id": "YixWDrs98Jbg"
      },
      "execution_count": null,
      "outputs": []
    },
    {
      "cell_type": "code",
      "source": [
        "Test.assert_equals(maxmin(9876543210), (9876543210, 1876543290))\n",
        "Test.assert_equals(maxmin(1234567890), (9234567810, 1034567892))\n",
        "Test.assert_equals(maxmin(190015878798001), (990015878718001, 100015878798091))\n",
        "Test.assert_equals(maxmin(411347917692022), (911347917642022, 111347947692022))\n",
        "Test.assert_equals(maxmin(91620336331950), (99620336331150, 11620336339950))\n",
        "Test.assert_equals(maxmin(428256072523076), (824256072523076, 228256072543076))\n",
        "Test.assert_equals(maxmin(999607251369567), (999907251366567, 199607259369567))\n",
        "Test.assert_equals(maxmin(10936404093733), (90936404013733, 10036404993733))\n",
        "Test.assert_equals(maxmin(116962727585478), (916162727585478, 112962767585478))\n",
        "Test.assert_equals(maxmin(645440811595719), (945440811595716, 145440811595769))\n",
        "Test.assert_equals(maxmin(304732653285373), (804732653235373, 204732653385373))\n",
        "Test.assert_equals(maxmin(734694929081563), (934694927081563, 134694929087563))\n",
        "Test.assert_equals(maxmin(597202395684464), (997202355684464, 297205395684464))\n",
        "Test.assert_equals(maxmin(111090753368874), (911010753368874, 101091753368874))\n",
        "Test.assert_equals(maxmin(357758017083851), (857758017083351, 157758017083853))\n",
        "Test.assert_equals(maxmin(744888865698909), (944888865698907, 447888865698909))\n",
        "Test.assert_equals(maxmin(589067130451808), (985067130451808, 189067130455808))\n",
        "Test.assert_equals(maxmin(236077600527389), (936077600527382, 206077603527389))\n",
        "Test.assert_equals(maxmin(405272406161141), (705242406161141, 105272406161144))\n",
        "Test.assert_equals(maxmin(21460234556134), (61460234552134, 11460234556234))\n",
        "Test.assert_equals(maxmin(347435942637955), (947435942637355, 247435943637955))\n",
        "Test.assert_equals(maxmin(942631615759140), (992631615754140, 142631615759940))"
      ],
      "metadata": {
        "colab": {
          "base_uri": "https://localhost:8080/"
        },
        "id": "bliz11K58QD7",
        "outputId": "f514c53b-dc00-4f02-e80a-afb5be82b633"
      },
      "execution_count": null,
      "outputs": [
        {
          "output_type": "stream",
          "name": "stdout",
          "text": [
            "Passed\n",
            "Passed\n",
            "Passed\n",
            "Passed\n",
            "Passed\n",
            "Passed\n",
            "Passed\n",
            "Passed\n",
            "Passed\n",
            "Passed\n",
            "Passed\n",
            "Passed\n",
            "Passed\n",
            "Passed\n",
            "Passed\n",
            "Passed\n",
            "Passed\n",
            "Passed\n",
            "Passed\n",
            "Passed\n",
            "Passed\n",
            "Passed\n"
          ]
        }
      ]
    }
  ]
}